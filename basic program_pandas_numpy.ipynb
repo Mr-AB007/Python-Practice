{
 "cells": [
  {
   "cell_type": "markdown",
   "metadata": {},
   "source": [
    "### Pandas python Program to Caluculate atleast 30 students BMI"
   ]
  },
  {
   "cell_type": "code",
   "execution_count": 4,
   "metadata": {},
   "outputs": [
    {
     "name": "stdout",
     "output_type": "stream",
     "text": [
      "Weight :45\n",
      "height :5\n",
      "Weight :56\n",
      "height :6\n",
      "Weight :76\n",
      "height :7\n",
      "Weight :78\n",
      "height :7\n",
      "Weight :89\n",
      "height :8\n",
      "Weight :89\n",
      "height :7\n",
      "Weight :89\n",
      "height :7\n",
      "Weight :78\n",
      "height :9\n",
      "Weight :89\n",
      "height :7\n",
      "Weight :87\n",
      "height :7\n",
      "Weight :98\n",
      "height :6\n",
      "Weight :98\n",
      "height :6\n",
      "Weight :97\n",
      "height :7\n",
      "Weight :98\n",
      "height :8\n",
      "Weight :78\n",
      "height :6\n",
      "Weight :90\n",
      "height :8\n",
      "Weight :78\n",
      "height :6\n",
      "Weight :56\n",
      "height :5\n",
      "Weight :87\n",
      "height :7\n",
      "Weight :56\n",
      "height :5\n",
      "Weight :98\n",
      "height :6\n",
      "Weight :78\n",
      "height :5\n",
      "Weight :87\n",
      "height :6\n",
      "Weight :98\n",
      "height :7\n",
      "Weight :67\n",
      "height :5\n",
      "Weight :87\n",
      "height :6\n",
      "Weight :98\n",
      "height :6\n",
      "Weight :56\n",
      "height :5\n",
      "Weight :87\n",
      "height :65\n",
      "Weight :76\n",
      "height :8\n",
      "press 'y' to continue entry or press any key :y\n",
      "Weight :67\n",
      "height :6\n",
      "press 'y' to continue entry or press any key :n\n"
     ]
    }
   ],
   "source": [
    "import pandas as pd\n",
    "\n",
    "list = [] #empty list\n",
    "y = \"y\"\n",
    "n=1\n",
    "while True and y==\"y\":\n",
    "    \n",
    "    w = float(input(\"Weight :\"))\n",
    "    h = float(input(\"height :\"))\n",
    "    \n",
    "    disc = {\"Weight\" : w,\"height\":h} #adding ti dictionary\n",
    "    \n",
    "    list.append(disc)      #appending dictionary items to list\n",
    "    n+=1\n",
    "    if n>30:\n",
    "        y=input(\"press 'y' to continue entry or press any key :\")\n",
    "        \n",
    "    \n",
    "finaldata = pd.Series(list)\n",
    "\n",
    "#calulating BMI of each entry\n",
    "\n",
    "l=[]\n",
    "for i in finaldata:\n",
    "    w = i[\"Weight\"]\n",
    "    m = i[\"height\"]\n",
    "    bmi=w/(m*m)\n",
    "    l.append(bmi)\n",
    "\n",
    "df= pd.DataFrame(l)\n",
    "#creating csv file\n",
    "df.to_csv('C:/Users/Anubhav/Documents/BMIfile.csv',header=\"false\")"
   ]
  },
  {
   "cell_type": "markdown",
   "metadata": {},
   "source": [
    "### 2. Write a Python program to read text file and print palindrome words on the screen"
   ]
  },
  {
   "cell_type": "code",
   "execution_count": 11,
   "metadata": {
    "scrolled": true
   },
   "outputs": [
    {
     "name": "stdout",
     "output_type": "stream",
     "text": [
      "Hello! World. cNC is Palindrome.\n",
      "76767 is also Palindrome\n",
      "This file is for testing purposes. \n",
      "\n",
      "Palindrome Words :\n",
      "CNC\n",
      "76767\n",
      "\n",
      "\n"
     ]
    }
   ],
   "source": [
    "\n",
    "fp= open(\"C:/Users/Anubhav/Documents/hello.txt\",\"r\") # use open method to open the file wit␣\n",
    "\n",
    "print(fp.read())\n",
    "\n",
    "#closing file \n",
    "fp.close()\n",
    "fp= open(\"C:/Users/Anubhav/Documents/hello.txt\",\"rt\")\n",
    "print(\"Palindrome Words :\")\n",
    "for t in fp:\n",
    "    for word in t.split(\" \"):\n",
    "        if word.upper() == word.upper()[::-1]:\n",
    "            print(word.upper())\n",
    "#closing file \n",
    "fp.close()"
   ]
  },
  {
   "cell_type": "code",
   "execution_count": 6,
   "metadata": {},
   "outputs": [
    {
     "name": "stdout",
     "output_type": "stream",
     "text": [
      "Palindrome Words :\n",
      "CNC\n",
      "76767\n",
      "\n",
      "\n"
     ]
    }
   ],
   "source": []
  },
  {
   "cell_type": "markdown",
   "metadata": {},
   "source": [
    "##### 3. Write a NumPy program to print all prime numbers in an array. Numbers must be entered by the user on runtime.\n"
   ]
  },
  {
   "cell_type": "code",
   "execution_count": 7,
   "metadata": {},
   "outputs": [
    {
     "name": "stdout",
     "output_type": "stream",
     "text": [
      "Enter the total number to input :5\n",
      "Enter the number : 3\n",
      "Enter the number : 7\n",
      "Enter the number : 8\n",
      "Enter the number : 9\n",
      "Enter the number : 5\n",
      "Prime Numbers\n",
      "3\n",
      "7\n",
      "5\n"
     ]
    }
   ],
   "source": [
    "import numpy as np\n",
    "len = int(input(\"Enter the total number to input :\"))\n",
    "narr = np.zeros(len,dtype=int)  #also work np.array( )\n",
    "\n",
    "for i in range(0,len):\n",
    "    narr[i]= int(input(\"Enter the number : \"))\n",
    "\n",
    "prime = []\n",
    "for i in narr:\n",
    "    if i >1:\n",
    "        for j in range(2,i):\n",
    "            if i % j == 0:\n",
    "                break\n",
    "        else:\n",
    "            prime.append(i)\n",
    "\n",
    "print(\"Prime Numbers\")\n",
    "\n",
    "for i in prime:\n",
    "    print(i)\n",
    "\n",
    "    "
   ]
  },
  {
   "cell_type": "code",
   "execution_count": null,
   "metadata": {},
   "outputs": [],
   "source": []
  }
 ],
 "metadata": {
  "kernelspec": {
   "display_name": "Python 3",
   "language": "python",
   "name": "python3"
  },
  "language_info": {
   "codemirror_mode": {
    "name": "ipython",
    "version": 3
   },
   "file_extension": ".py",
   "mimetype": "text/x-python",
   "name": "python",
   "nbconvert_exporter": "python",
   "pygments_lexer": "ipython3",
   "version": "3.8.5"
  }
 },
 "nbformat": 4,
 "nbformat_minor": 4
}
